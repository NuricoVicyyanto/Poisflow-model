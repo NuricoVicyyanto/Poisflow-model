{
 "cells": [
  {
   "cell_type": "code",
   "execution_count": 1,
   "id": "46677cf9-3fa5-4e7d-9a53-73d63ce25763",
   "metadata": {},
   "outputs": [],
   "source": [
    "import numpy as np\n",
    "import tensorflow as tf\n",
    "from keras.preprocessing.image import ImageDataGenerator\n",
    "from PIL import Image"
   ]
  },
  {
   "cell_type": "code",
   "execution_count": 2,
   "id": "a36beb40-d520-4f8b-93f1-385d05bfe925",
   "metadata": {},
   "outputs": [
    {
     "data": {
      "text/plain": [
       "'2.8.0'"
      ]
     },
     "execution_count": 2,
     "metadata": {},
     "output_type": "execute_result"
    }
   ],
   "source": [
    "tf.__version__"
   ]
  },
  {
   "cell_type": "code",
   "execution_count": 3,
   "id": "cd850248-81c0-4cc2-87da-5caa8e11c722",
   "metadata": {},
   "outputs": [
    {
     "name": "stdout",
     "output_type": "stream",
     "text": [
      "Found 949 images belonging to 6 classes.\n"
     ]
    }
   ],
   "source": [
    "train_datagen = ImageDataGenerator(rescale=1./255, shear_range=0.2, zoom_range=0.2, horizontal_flip=True)\n",
    "training_set = train_datagen.flow_from_directory('Documents/dataset/poisonf/train', target_size=(64, 64), batch_size=32, class_mode='categorical')"
   ]
  },
  {
   "cell_type": "code",
   "execution_count": 4,
   "id": "bb4e9df9-3707-463e-b26c-b6c7abb83013",
   "metadata": {},
   "outputs": [
    {
     "name": "stdout",
     "output_type": "stream",
     "text": [
      "Found 102 images belonging to 6 classes.\n"
     ]
    }
   ],
   "source": [
    "test_datagen = ImageDataGenerator(rescale=1./255)\n",
    "test_set = test_datagen.flow_from_directory('Documents/dataset/poisonf/test', target_size=(64, 64), batch_size=32, class_mode='categorical')"
   ]
  },
  {
   "cell_type": "code",
   "execution_count": 5,
   "id": "1080d741-647e-4289-8350-baf15d714dde",
   "metadata": {},
   "outputs": [],
   "source": [
    "cnn = tf.keras.models.Sequential()"
   ]
  },
  {
   "cell_type": "code",
   "execution_count": 6,
   "id": "31788b88-5bd6-49c9-b937-be05ff7dc88c",
   "metadata": {},
   "outputs": [],
   "source": [
    "cnn.add(tf.keras.layers.Conv2D(filters=32 , kernel_size=3 , activation='relu' , input_shape=[64,64,3]))\n",
    "cnn.add(tf.keras.layers.MaxPool2D(pool_size=2,strides=2))"
   ]
  },
  {
   "cell_type": "code",
   "execution_count": 7,
   "id": "b59ce752-c773-4352-8cee-ecf6b7a07b4d",
   "metadata": {},
   "outputs": [],
   "source": [
    "cnn.add(tf.keras.layers.Conv2D(filters=64 , kernel_size=3 , activation='relu' ))\n",
    "cnn.add(tf.keras.layers.MaxPool2D(pool_size=2 , strides=2))"
   ]
  },
  {
   "cell_type": "code",
   "execution_count": 8,
   "id": "71dfda98-f17e-42b2-ba3f-7d9f05ae0141",
   "metadata": {},
   "outputs": [],
   "source": [
    "cnn.add(tf.keras.layers.Dropout(0.5))"
   ]
  },
  {
   "cell_type": "code",
   "execution_count": 9,
   "id": "70d8ae2e-2f24-402f-89e8-cab54900b304",
   "metadata": {},
   "outputs": [],
   "source": [
    "cnn.add(tf.keras.layers.Flatten())"
   ]
  },
  {
   "cell_type": "code",
   "execution_count": 10,
   "id": "7ccd1e2b-ce18-464e-9f49-5e1bac8dc5bb",
   "metadata": {},
   "outputs": [],
   "source": [
    "cnn.add(tf.keras.layers.Dense(units=128, activation='relu'))"
   ]
  },
  {
   "cell_type": "code",
   "execution_count": 11,
   "id": "4eb03076-9ae9-4a4f-a8dc-892330cb7706",
   "metadata": {},
   "outputs": [],
   "source": [
    "cnn.add(tf.keras.layers.Dense(units = 6, activation='softmax'))"
   ]
  },
  {
   "cell_type": "code",
   "execution_count": 15,
   "id": "28bd6a84-7c68-4b5b-b528-c4d9b707144d",
   "metadata": {},
   "outputs": [],
   "source": [
    "cnn.compile(optimizer = 'ADAM',loss = 'categorical_crossentropy'  , metrics = ['accuracy'])"
   ]
  },
  {
   "cell_type": "code",
   "execution_count": 16,
   "id": "42924904-8128-4de4-8048-f6507766d0fd",
   "metadata": {},
   "outputs": [
    {
     "name": "stdout",
     "output_type": "stream",
     "text": [
      "Model: \"sequential\"\n",
      "_________________________________________________________________\n",
      " Layer (type)                Output Shape              Param #   \n",
      "=================================================================\n",
      " conv2d (Conv2D)             (None, 62, 62, 32)        896       \n",
      "                                                                 \n",
      " max_pooling2d (MaxPooling2D  (None, 31, 31, 32)       0         \n",
      " )                                                               \n",
      "                                                                 \n",
      " conv2d_1 (Conv2D)           (None, 29, 29, 64)        18496     \n",
      "                                                                 \n",
      " max_pooling2d_1 (MaxPooling  (None, 14, 14, 64)       0         \n",
      " 2D)                                                             \n",
      "                                                                 \n",
      " dropout (Dropout)           (None, 14, 14, 64)        0         \n",
      "                                                                 \n",
      " flatten (Flatten)           (None, 12544)             0         \n",
      "                                                                 \n",
      " dense (Dense)               (None, 128)               1605760   \n",
      "                                                                 \n",
      " dense_1 (Dense)             (None, 6)                 774       \n",
      "                                                                 \n",
      "=================================================================\n",
      "Total params: 1,625,926\n",
      "Trainable params: 1,625,926\n",
      "Non-trainable params: 0\n",
      "_________________________________________________________________\n"
     ]
    }
   ],
   "source": [
    "cnn.summary()"
   ]
  },
  {
   "cell_type": "code",
   "execution_count": 17,
   "id": "4f84bab1-950d-4353-978c-95704b17f068",
   "metadata": {},
   "outputs": [
    {
     "name": "stdout",
     "output_type": "stream",
     "text": [
      "Epoch 1/30\n",
      "30/30 [==============================] - 13s 399ms/step - loss: 1.1006 - accuracy: 0.6091 - val_loss: 1.3744 - val_accuracy: 0.5294\n",
      "Epoch 2/30\n",
      "30/30 [==============================] - 11s 381ms/step - loss: 0.8098 - accuracy: 0.7197 - val_loss: 0.8986 - val_accuracy: 0.6961\n",
      "Epoch 3/30\n",
      "30/30 [==============================] - 12s 405ms/step - loss: 0.6922 - accuracy: 0.7471 - val_loss: 0.7696 - val_accuracy: 0.7353\n",
      "Epoch 4/30\n",
      "30/30 [==============================] - 12s 386ms/step - loss: 0.5897 - accuracy: 0.7935 - val_loss: 0.7510 - val_accuracy: 0.7255\n",
      "Epoch 5/30\n",
      "30/30 [==============================] - 11s 357ms/step - loss: 0.5486 - accuracy: 0.8082 - val_loss: 0.8718 - val_accuracy: 0.6176\n",
      "Epoch 6/30\n",
      "30/30 [==============================] - 10s 326ms/step - loss: 0.5287 - accuracy: 0.8145 - val_loss: 0.4643 - val_accuracy: 0.8922\n",
      "Epoch 7/30\n",
      "30/30 [==============================] - 12s 386ms/step - loss: 0.4739 - accuracy: 0.8356 - val_loss: 0.4786 - val_accuracy: 0.8627\n",
      "Epoch 8/30\n",
      "30/30 [==============================] - 11s 370ms/step - loss: 0.4492 - accuracy: 0.8430 - val_loss: 0.5494 - val_accuracy: 0.7745\n",
      "Epoch 9/30\n",
      "30/30 [==============================] - 11s 353ms/step - loss: 0.4182 - accuracy: 0.8546 - val_loss: 0.4194 - val_accuracy: 0.8922\n",
      "Epoch 10/30\n",
      "30/30 [==============================] - 11s 366ms/step - loss: 0.3984 - accuracy: 0.8714 - val_loss: 0.4211 - val_accuracy: 0.8137\n",
      "Epoch 11/30\n",
      "30/30 [==============================] - 11s 368ms/step - loss: 0.3326 - accuracy: 0.8936 - val_loss: 0.4186 - val_accuracy: 0.8431\n",
      "Epoch 12/30\n",
      "30/30 [==============================] - 11s 370ms/step - loss: 0.3377 - accuracy: 0.8904 - val_loss: 0.2951 - val_accuracy: 0.9118\n",
      "Epoch 13/30\n",
      "30/30 [==============================] - 12s 397ms/step - loss: 0.2879 - accuracy: 0.9031 - val_loss: 0.3642 - val_accuracy: 0.8725\n",
      "Epoch 14/30\n",
      "30/30 [==============================] - 12s 397ms/step - loss: 0.3379 - accuracy: 0.8915 - val_loss: 0.4526 - val_accuracy: 0.8627\n",
      "Epoch 15/30\n",
      "30/30 [==============================] - 11s 378ms/step - loss: 0.3113 - accuracy: 0.8851 - val_loss: 0.3345 - val_accuracy: 0.8627\n",
      "Epoch 16/30\n",
      "30/30 [==============================] - 12s 398ms/step - loss: 0.2505 - accuracy: 0.9189 - val_loss: 0.2980 - val_accuracy: 0.9216\n",
      "Epoch 17/30\n",
      "30/30 [==============================] - 11s 367ms/step - loss: 0.2014 - accuracy: 0.9305 - val_loss: 0.2583 - val_accuracy: 0.9314\n",
      "Epoch 18/30\n",
      "30/30 [==============================] - 12s 389ms/step - loss: 0.2013 - accuracy: 0.9357 - val_loss: 0.2714 - val_accuracy: 0.9020\n",
      "Epoch 19/30\n",
      "30/30 [==============================] - 12s 413ms/step - loss: 0.2121 - accuracy: 0.9262 - val_loss: 0.2640 - val_accuracy: 0.9020\n",
      "Epoch 20/30\n",
      "30/30 [==============================] - 11s 372ms/step - loss: 0.1560 - accuracy: 0.9452 - val_loss: 0.2239 - val_accuracy: 0.9216\n",
      "Epoch 21/30\n",
      "30/30 [==============================] - 11s 380ms/step - loss: 0.1492 - accuracy: 0.9452 - val_loss: 0.1920 - val_accuracy: 0.9510\n",
      "Epoch 22/30\n",
      "30/30 [==============================] - 12s 400ms/step - loss: 0.2126 - accuracy: 0.9326 - val_loss: 0.3138 - val_accuracy: 0.8824\n",
      "Epoch 23/30\n",
      "30/30 [==============================] - 12s 407ms/step - loss: 0.1511 - accuracy: 0.9473 - val_loss: 0.2482 - val_accuracy: 0.9216\n",
      "Epoch 24/30\n",
      "30/30 [==============================] - 12s 388ms/step - loss: 0.1551 - accuracy: 0.9420 - val_loss: 0.2670 - val_accuracy: 0.9216\n",
      "Epoch 25/30\n",
      "30/30 [==============================] - 11s 371ms/step - loss: 0.1162 - accuracy: 0.9600 - val_loss: 0.1992 - val_accuracy: 0.9510\n",
      "Epoch 26/30\n",
      "30/30 [==============================] - 11s 365ms/step - loss: 0.1379 - accuracy: 0.9547 - val_loss: 0.4404 - val_accuracy: 0.8922\n",
      "Epoch 27/30\n",
      "30/30 [==============================] - 11s 371ms/step - loss: 0.1571 - accuracy: 0.9463 - val_loss: 0.2212 - val_accuracy: 0.9216\n",
      "Epoch 28/30\n",
      "30/30 [==============================] - 11s 365ms/step - loss: 0.1045 - accuracy: 0.9694 - val_loss: 0.3680 - val_accuracy: 0.8725\n",
      "Epoch 29/30\n",
      "30/30 [==============================] - 12s 387ms/step - loss: 0.1228 - accuracy: 0.9631 - val_loss: 0.2138 - val_accuracy: 0.9118\n",
      "Epoch 30/30\n",
      "30/30 [==============================] - 13s 420ms/step - loss: 0.0924 - accuracy: 0.9726 - val_loss: 0.1383 - val_accuracy: 0.9608\n"
     ]
    }
   ],
   "source": [
    "model = cnn.fit(x = training_set, validation_data = test_set , epochs = 30)"
   ]
  },
  {
   "cell_type": "code",
   "execution_count": 21,
   "id": "27bfa2e5-1bda-4ee0-b071-c74f96f1c5de",
   "metadata": {},
   "outputs": [],
   "source": [
    "from keras.preprocessing import image"
   ]
  },
  {
   "cell_type": "code",
   "execution_count": 23,
   "id": "67422703-d453-4d2a-a479-2158faf8d2a9",
   "metadata": {},
   "outputs": [
    {
     "data": {
      "text/plain": [
       "{'caladium': 0,\n",
       " 'dieffenbachia': 1,\n",
       " 'monstera': 2,\n",
       " 'oleander': 3,\n",
       " 'spathiphyllum': 4,\n",
       " 'zobject': 5}"
      ]
     },
     "execution_count": 23,
     "metadata": {},
     "output_type": "execute_result"
    }
   ],
   "source": [
    "test_image = image.load_img('Documents/dataset/poisonf/test/caladium/1 (1).jpg',target_size=(64,64))\n",
    "test_image = image.img_to_array(test_image)\n",
    "test_image = np.expand_dims(test_image,axis=0)\n",
    "result = cnn.predict(test_image)\n",
    "training_set.class_indices"
   ]
  },
  {
   "cell_type": "code",
   "execution_count": 19,
   "id": "e3a2a29f-3aa0-4617-8a32-11a3ed773ff2",
   "metadata": {},
   "outputs": [
    {
     "name": "stdout",
     "output_type": "stream",
     "text": [
      "[[1. 0. 0. 0. 0. 0.]]\n"
     ]
    }
   ],
   "source": [
    "print(result)"
   ]
  },
  {
   "cell_type": "code",
   "execution_count": 20,
   "id": "0a1080eb-c94e-4071-8515-2c8334c325b4",
   "metadata": {},
   "outputs": [
    {
     "name": "stdout",
     "output_type": "stream",
     "text": [
      "caladium\n"
     ]
    }
   ],
   "source": [
    "if result[0][0]==1:\n",
    "    print('caladium')\n",
    "elif result[0][1]==1:\n",
    "    print('dieffenbachia')\n",
    "elif result[0][2]==1:\n",
    "    print('monstera')\n",
    "elif result[0][3]==1:\n",
    "    print('oleander')\n",
    "elif result[0][4]==1:\n",
    "    print(\"spathipyllum\")\n",
    "elif result[0][5]==1:\n",
    "    print(\"Object tidak dikenal\")"
   ]
  },
  {
   "cell_type": "code",
   "execution_count": null,
   "id": "506ead3a-5cfa-45f9-9057-31b9b3adb76c",
   "metadata": {},
   "outputs": [],
   "source": [
    "import matplotlib.pyplot as plt\n",
    "\n",
    "# get data accuracy\n",
    "acc = model.history['accuracy']\n",
    "val_acc = model.history['val_accuracy']\n",
    "\n",
    "# get data loss\n",
    "loss = model.history['loss']\n",
    "val_loss = model.history['val_loss']\n",
    "\n",
    "# Get number of epochs\n",
    "epochs = range(len(acc))\n",
    "\n",
    "# Plot training and testing accuracy per epoch\n",
    "plt.plot(epochs,acc,'r',label='training')\n",
    "plt.plot(epochs,val_acc,'b',label='vadidation')\n",
    "plt.legend()\n",
    "plt.title('Akurasi')\n",
    "\n",
    "plt.figure()\n",
    "\n",
    "# Plot training and testing loss per epoch\n",
    "plt.plot(epochs,loss,'r',label='training')\n",
    "plt.plot(epochs,val_loss,'b',label='validation')\n",
    "plt.legend()\n",
    "plt.title('Validation loss')"
   ]
  },
  {
   "cell_type": "code",
   "execution_count": null,
   "id": "ab918718-c146-4b89-a280-c8caa477095d",
   "metadata": {},
   "outputs": [],
   "source": [
    "model.save(\"flowpos2.h5\")"
   ]
  },
  {
   "cell_type": "code",
   "execution_count": null,
   "id": "f8be7977-2523-4469-bff9-cb03b37a04d1",
   "metadata": {},
   "outputs": [],
   "source": [
    "# from keras.models import load_model\n",
    "# import numpy as np\n",
    "# from keras.preprocessing import image"
   ]
  },
  {
   "cell_type": "code",
   "execution_count": null,
   "id": "5490e1eb-2ef0-4903-bfac-e8dc300c9111",
   "metadata": {},
   "outputs": [],
   "source": [
    "# model = load_model('flowpos.h5')"
   ]
  },
  {
   "cell_type": "code",
   "execution_count": null,
   "id": "21b14ee6-6661-4d17-b5e9-cd70ada9438c",
   "metadata": {},
   "outputs": [],
   "source": [
    "# test_image =image.load_img(\"Documents/dataset/poisonf/test/monstera/Tanaman-Monstera.jpg\",target_size =(64,64))\n",
    "# test_image =image.img_to_array(test_image)\n",
    "# test_image =np.expand_dims(test_image, axis =0)\n",
    "# result_test = model.predict(test_image)"
   ]
  },
  {
   "cell_type": "code",
   "execution_count": null,
   "id": "a62d2892-8c52-472f-86fd-60aad7ffc352",
   "metadata": {},
   "outputs": [],
   "source": [
    "# if result_test[0][0]==1:\n",
    "#     print('caladuim')\n",
    "# elif result_test[0][1]==1:\n",
    "#     print('dieffenbachia')\n",
    "# elif result_test[0][2]==1:\n",
    "#     print('monstera')\n",
    "# elif result_test[0][3]==1:\n",
    "#     print('oleander')\n",
    "# elif result_test[0][4]==1:\n",
    "#     print(\"spathipyllum\")"
   ]
  },
  {
   "cell_type": "code",
   "execution_count": null,
   "id": "032b1b8d-c6d4-406f-bfd0-9cf20a6e0df8",
   "metadata": {},
   "outputs": [],
   "source": []
  }
 ],
 "metadata": {
  "kernelspec": {
   "display_name": "Python 3 (ipykernel)",
   "language": "python",
   "name": "python3"
  },
  "language_info": {
   "codemirror_mode": {
    "name": "ipython",
    "version": 3
   },
   "file_extension": ".py",
   "mimetype": "text/x-python",
   "name": "python",
   "nbconvert_exporter": "python",
   "pygments_lexer": "ipython3",
   "version": "3.10.1"
  }
 },
 "nbformat": 4,
 "nbformat_minor": 5
}
